{
  "cells": [
    {
      "cell_type": "markdown",
      "metadata": {
        "id": "view-in-github",
        "colab_type": "text"
      },
      "source": [
        "<a href=\"https://colab.research.google.com/github/RalfHaller/Deep-Learning-Coursera/blob/master/pytorch_intro_.ipynb\" target=\"_parent\"><img src=\"https://colab.research.google.com/assets/colab-badge.svg\" alt=\"Open In Colab\"/></a>"
      ]
    },
    {
      "cell_type": "markdown",
      "metadata": {
        "id": "iicOd73ghvuY"
      },
      "source": [
        "# 6.86x - Introduction to ML Packages (Part 2)\n",
        "\n",
        "This tutorial is designed to provide a short introduction to deep learning with PyTorch.\n",
        "\n",
        "You can start studying this tutorial as you work through unit 3 of the course.\n",
        "For more resources, check out [the PyTorch tutorials](https://pytorch.org/tutorials/)! There are many more in-depth examples available there.\n"
      ]
    },
    {
      "cell_type": "markdown",
      "metadata": {
        "id": "XZLvAiLrhvuZ"
      },
      "source": [
        "Source code for this notebook hosted at: https://github.com/varal7/ml-tutorial"
      ]
    },
    {
      "cell_type": "markdown",
      "metadata": {
        "id": "2ihjKHpzhvuZ"
      },
      "source": [
        "## PyTorch\n",
        "\n",
        "[PyTorch](https://pytorch.org) is a flexible scientific computing package targetted towards gradient-based deep learning. Its low-level API closely follows [NumPy](http://www.numpy.org/). However, there are a several key additions:\n",
        "\n",
        "-  GPU support!\n",
        "-  Automatic differentiation!\n",
        "-  Deep learning modules!\n",
        "-  Data loading!\n",
        "-  And other generally useful goodies.\n",
        "\n",
        "If you don't have GPU enabled hardward, don't worry. Like NumPy, PyTorch runs pre-compiled, highly efficient C code to handle all intensive backend functions.\n",
        "\n",
        "Go to pytorch.org to download the correct package for your computing environment."
      ]
    },
    {
      "cell_type": "code",
      "execution_count": 1,
      "metadata": {
        "collapsed": true,
        "id": "DLT2yEhMhvuZ"
      },
      "outputs": [],
      "source": [
        "# Start by importing torch\n",
        "import torch"
      ]
    },
    {
      "cell_type": "markdown",
      "metadata": {
        "ExecuteTime": {
          "end_time": "2019-02-20T16:35:28.485220Z",
          "start_time": "2019-02-20T16:35:28.476294Z"
        },
        "id": "gVjJPBFahvuZ"
      },
      "source": [
        "### Tensors\n",
        "\n",
        "Tensors are PyTorch's equivalent of NumPy ndarrays."
      ]
    },
    {
      "cell_type": "code",
      "execution_count": 2,
      "metadata": {
        "ExecuteTime": {
          "end_time": "2019-02-20T16:35:28.492012Z",
          "start_time": "2019-02-20T16:35:28.487024Z"
        },
        "colab": {
          "base_uri": "https://localhost:8080/"
        },
        "id": "_MftIzFPhvuZ",
        "outputId": "86bd8aca-e1c7-4642-988c-10b0f1452928"
      },
      "outputs": [
        {
          "output_type": "stream",
          "name": "stdout",
          "text": [
            "tensor([[1., 1.],\n",
            "        [1., 1.]])\n",
            "tensor([[0., 0.],\n",
            "        [0., 0.]])\n",
            "tensor([[ 0.3582, -0.9940],\n",
            "        [-0.9055,  1.6229]])\n"
          ]
        }
      ],
      "source": [
        "# Construct a bunch of ones\n",
        "some_ones = torch.ones(2, 2)\n",
        "print(some_ones)\n",
        "\n",
        "# Construct a bunch of zeros\n",
        "some_zeros = torch.zeros(2, 2)\n",
        "print(some_zeros)\n",
        "\n",
        "# Construct some normally distributed values\n",
        "some_normals = torch.randn(2, 2)\n",
        "print(some_normals)"
      ]
    },
    {
      "cell_type": "markdown",
      "metadata": {
        "ExecuteTime": {
          "end_time": "2019-02-20T16:35:28.497368Z",
          "start_time": "2019-02-20T16:35:28.494171Z"
        },
        "scrolled": true,
        "id": "0s69M4ulhvua"
      },
      "source": [
        "PyTorch tensors and NumPy ndarrays even share the same memory handles, so you can switch between the two types essentially for free:"
      ]
    },
    {
      "cell_type": "code",
      "execution_count": 3,
      "metadata": {
        "collapsed": true,
        "id": "Xf5D2DAThvua"
      },
      "outputs": [],
      "source": [
        "torch_tensor = torch.randn(5, 5)\n",
        "numpy_ndarray = torch_tensor.numpy()\n",
        "back_to_torch = torch.from_numpy(numpy_ndarray)"
      ]
    },
    {
      "cell_type": "markdown",
      "metadata": {
        "ExecuteTime": {
          "end_time": "2019-02-20T16:35:28.564975Z",
          "start_time": "2019-02-20T16:35:28.499321Z"
        },
        "id": "kqi1DGbxhvua"
      },
      "source": [
        "Like NumPy, there are a zillion different operations you can do with tensors. Best thing to do is to go to https://pytorch.org/docs/stable/tensors.html if you know you want to do something to a tensor but don't know how!\n",
        "\n",
        "We can cover a few major ones here:"
      ]
    },
    {
      "cell_type": "markdown",
      "metadata": {
        "ExecuteTime": {
          "end_time": "2019-02-19T16:57:10.540510Z",
          "start_time": "2019-02-19T16:57:10.496709Z"
        },
        "id": "xN6cyVXlhvua"
      },
      "source": [
        "In the Numpy tutorial, we have covered the basics of Numpy, numpy arrays, element-wise operations, matrices operations and generating random matrices.\n",
        "In this section, we'll cover indexing, slicing and broadcasting, which are useful concepts that will be reused in `Pandas` and `PyTorch`.\n"
      ]
    },
    {
      "cell_type": "code",
      "execution_count": 4,
      "metadata": {
        "colab": {
          "base_uri": "https://localhost:8080/"
        },
        "id": "9nG80a92hvua",
        "outputId": "eba16a77-cfa8-416b-fc2a-f15994661eda"
      },
      "outputs": [
        {
          "output_type": "stream",
          "name": "stdout",
          "text": [
            "tensor([[-1.8930, -0.3441,  1.4284,  0.3184, -0.9409],\n",
            "        [ 0.4297, -0.9439,  0.0641, -0.8139,  0.2009],\n",
            "        [ 1.1114, -1.4222, -0.9396,  1.2104, -2.1731],\n",
            "        [ 0.2741, -0.2245,  1.1212, -1.0734, -0.8905],\n",
            "        [ 1.9947,  0.7139, -0.4846,  1.8461, -2.4963]])\n",
            "tensor([[-0.1588,  1.3765,  0.7060, -0.5220, -0.0715],\n",
            "        [ 0.4131,  0.2312,  0.8804,  0.1105,  0.5809],\n",
            "        [-0.7704, -0.0875,  0.0524,  0.6412,  0.4545],\n",
            "        [ 0.5911,  0.3765, -0.0109,  1.2017, -0.1857],\n",
            "        [-0.8741,  0.1627,  0.5480, -0.7681, -0.0340]])\n"
          ]
        }
      ],
      "source": [
        "# Create two tensors\n",
        "a = torch.randn(5, 5)\n",
        "b = torch.randn(5, 5)\n",
        "print(a)\n",
        "print(b)"
      ]
    },
    {
      "cell_type": "code",
      "execution_count": 5,
      "metadata": {
        "colab": {
          "base_uri": "https://localhost:8080/"
        },
        "id": "9nPi1qKlhvua",
        "outputId": "4e1a35cd-243b-4a26-eb94-4cfa5e98b18c"
      },
      "outputs": [
        {
          "output_type": "stream",
          "name": "stdout",
          "text": [
            "tensor([[-1.8930, -0.3441,  1.4284,  0.3184, -0.9409],\n",
            "        [ 0.4297, -0.9439,  0.0641, -0.8139,  0.2009],\n",
            "        [ 1.1114, -1.4222, -0.9396,  1.2104, -2.1731],\n",
            "        [ 0.2741, -0.2245,  1.1212, -1.0734, -0.8905],\n",
            "        [ 1.9947,  0.7139, -0.4846,  1.8461, -2.4963]])\n",
            "tensor(-0.9396)\n",
            "-0.9396000504493713\n"
          ]
        }
      ],
      "source": [
        "# Indexing by i,j\n",
        "another_tensor = a[2, 2]\n",
        "print(a)\n",
        "print(another_tensor)\n",
        "\n",
        "# The above returns a tensor type! To get the python value:\n",
        "python_value = a[2, 2].item()\n",
        "print(python_value)"
      ]
    },
    {
      "cell_type": "code",
      "execution_count": 6,
      "metadata": {
        "colab": {
          "base_uri": "https://localhost:8080/"
        },
        "id": "KUWVeXt1hvua",
        "outputId": "df9926a3-a5d4-4d86-89bc-df16138b65ec"
      },
      "outputs": [
        {
          "output_type": "stream",
          "name": "stdout",
          "text": [
            "tensor([[-0.9396,  1.2104],\n",
            "        [ 1.1212, -1.0734]])\n"
          ]
        }
      ],
      "source": [
        "# Getting a whole row or column or range\n",
        "first_row = a[0, :]\n",
        "first_column = a[:, 0]\n",
        "combo = a[2:4, 2:4]\n",
        "print(combo)"
      ]
    },
    {
      "cell_type": "code",
      "execution_count": 20,
      "metadata": {
        "colab": {
          "base_uri": "https://localhost:8080/"
        },
        "id": "cznuv3Hhhvua",
        "outputId": "20f963bb-edf4-4a73-9b84-365db67c443d"
      },
      "outputs": [
        {
          "output_type": "stream",
          "name": "stdout",
          "text": [
            "[ 0.06870461 -1.164201    2.5746806  -0.8562423   3.6245227 ]\n",
            "tensor([ 0.0687, -1.1642,  2.5747, -0.8562,  3.6245])\n"
          ]
        }
      ],
      "source": [
        "# Addition\n",
        "c = a + b\n",
        "\n",
        "# Elementwise multiplication: c_ij = a_ij * b_ij\n",
        "c = a * b\n",
        "\n",
        "# Matrix multiplication: c_ik = a_ij * b_jk\n",
        "c = a.mm(b)\n",
        "\n",
        "# Matrix vector multiplication\n",
        "c = a.matmul(b[:, 0])\n",
        "c = c.numpy()\n",
        "print(c)\n",
        "c= torch.from_numpy(c)\n",
        "print(c)"
      ]
    },
    {
      "cell_type": "code",
      "execution_count": 31,
      "metadata": {
        "colab": {
          "base_uri": "https://localhost:8080/"
        },
        "id": "OsyIBx7xhvua",
        "outputId": "c13da9a7-2a51-4b68-9c3c-080b9c404df5"
      },
      "outputs": [
        {
          "output_type": "stream",
          "name": "stdout",
          "text": [
            "tensor([[ 1.4284, -0.8039, -0.4892,  0.5051, -0.9069],\n",
            "        [-0.2046,  0.4674,  1.7486, -1.2886,  1.1523],\n",
            "        [ 0.3612,  1.4173, -1.5495, -0.8914,  0.0215],\n",
            "        [ 0.4642, -0.9129, -0.1772, -0.0857,  0.2109],\n",
            "        [ 0.1658,  1.4068, -0.8863,  0.6164, -0.0135]])\n",
            "torch.Size([5, 5])\n",
            "tensor([ 1.4284, -0.2046,  0.3612,  0.4642,  0.1658])\n",
            "torch.Size([5])\n",
            "tensor([[ 2.1121, -3.9544, -0.6321,  1.5912, -2.1136],\n",
            "        [-0.1635,  5.6587, -2.5850, -1.4437,  0.4745],\n",
            "        [-0.7440, -0.9800,  4.8414, -0.1731,  1.0840],\n",
            "        [ 0.7810, -0.6761, -1.7205,  1.7062, -1.4977],\n",
            "        [-0.0872, -1.3136,  3.6549, -1.0001,  1.5818]])\n",
            "torch.Size([5, 5])\n",
            "tensor([ 2.1121, -0.1635, -0.7440,  0.7810, -0.0872])\n",
            "torch.Size([5])\n",
            "tensor([[ 2.1121],\n",
            "        [-0.1635],\n",
            "        [-0.7440],\n",
            "        [ 0.7810],\n",
            "        [-0.0872]])\n",
            "torch.Size([5, 1])\n"
          ]
        }
      ],
      "source": [
        "a = torch.randn(5, 5)\n",
        "print(a)\n",
        "print(a.size())\n",
        "\n",
        "vec = a[:, 0]\n",
        "print(vec)\n",
        "print(vec.size())\n",
        "\n",
        "# Matrix multiple 5x5 * 5x5 --> 5x5\n",
        "aa = a.mm(a)\n",
        "print(aa)\n",
        "print(aa.size())\n",
        "\n",
        "# matrix vector 5x5 * 5 --> 5\n",
        "v1 = a.matmul(vec)\n",
        "print(v1)\n",
        "print(v1.size())\n",
        "\n",
        "\n",
        "vec_as_matrix = vec.view(5, 1)\n",
        "v2 = a.mm(vec_as_matrix)\n",
        "print(v2)\n",
        "print(v2.size())"
      ]
    },
    {
      "cell_type": "markdown",
      "metadata": {
        "id": "BM2ebXexhvua"
      },
      "source": [
        "In-place operations exist to, generally denoted by a trailing '_' (e.g. my_tensor.my_inplace_function_)."
      ]
    },
    {
      "cell_type": "code",
      "execution_count": null,
      "metadata": {
        "id": "16DDU-ehhvub",
        "outputId": "bfff11de-ec6b-4f5d-bc53-ff054ff63695"
      },
      "outputs": [
        {
          "data": {
            "text/plain": [
              "tensor([[0., 0., 0., 0., 0.],\n",
              "        [0., 0., 0., 0., 0.],\n",
              "        [0., 0., 0., 0., 0.],\n",
              "        [0., 0., 0., 0., 0.],\n",
              "        [0., 0., 0., 0., 0.]])"
            ]
          },
          "execution_count": 12,
          "metadata": {},
          "output_type": "execute_result"
        }
      ],
      "source": [
        "# Add one to all elements\n",
        "a.add_(1)\n",
        "\n",
        "# Divide all elements by 2\n",
        "a.div_(2)\n",
        "\n",
        "# Set all elements to 0\n",
        "a.zero_()"
      ]
    },
    {
      "cell_type": "markdown",
      "metadata": {
        "id": "fr2hgY_mhvub"
      },
      "source": [
        "Manipulate dimensions..."
      ]
    },
    {
      "cell_type": "code",
      "execution_count": 35,
      "metadata": {
        "colab": {
          "base_uri": "https://localhost:8080/"
        },
        "id": "9jfkrArLhvub",
        "outputId": "f1e49745-3634-4fcd-be31-8226f879d1ca"
      },
      "outputs": [
        {
          "output_type": "stream",
          "name": "stdout",
          "text": [
            "dim(a) torch.Size([10, 10])\n",
            "torch.Size([10, 10, 1])\n",
            "torch.Size([1, 10, 10])\n",
            "torch.Size([10, 1, 10])\n",
            "torch.Size([10, 10])\n",
            "torch.Size([100, 1])\n",
            "torch.Size([50, 2])\n",
            "tensor([[ 0.7190],\n",
            "        [-1.5691]])\n",
            "tensor([[ 0.7190,  0.7190,  0.7190],\n",
            "        [-1.5691, -1.5691, -1.5691]])\n"
          ]
        }
      ],
      "source": [
        "# Add a dummy dimension, e.g. (n, m) --> (n, m, 1)\n",
        "a = torch.randn(10, 10)\n",
        "print(\"dim(a)\", a.size())\n",
        "\n",
        "# At the end\n",
        "print(a.unsqueeze(-1).size())\n",
        "\n",
        "# At the beginning\n",
        "print(a.unsqueeze(0).size())\n",
        "\n",
        "# In the middle\n",
        "print(a.unsqueeze(1).size())\n",
        "\n",
        "# What you give you can take away\n",
        "print(a.unsqueeze(0).squeeze(0).size())\n",
        "\n",
        "# View things differently, i.e. flat\n",
        "print(a.view(100, 1).size())\n",
        "\n",
        "# Or not flat\n",
        "print(a.view(50, 2).size())\n",
        "\n",
        "# Copy data across a new dummy dimension!\n",
        "a = torch.randn(2)\n",
        "a = a.unsqueeze(-1)\n",
        "print(a)\n",
        "print(a.expand(2, 3))"
      ]
    },
    {
      "cell_type": "markdown",
      "metadata": {
        "id": "uhvAituBhvub"
      },
      "source": [
        "If you have a GPU..."
      ]
    },
    {
      "cell_type": "code",
      "execution_count": 36,
      "metadata": {
        "colab": {
          "base_uri": "https://localhost:8080/"
        },
        "id": "KpfhUVxUhvub",
        "outputId": "d0a6f060-38ba-49bb-eb2c-e9b5fa5d0b4b"
      },
      "outputs": [
        {
          "output_type": "stream",
          "name": "stdout",
          "text": [
            "CPU it is!\n"
          ]
        }
      ],
      "source": [
        "# Check if you have it\n",
        "do_i_have_cuda = torch.cuda.is_available()\n",
        "\n",
        "if do_i_have_cuda:\n",
        "    print('Using fancy GPUs')\n",
        "    # One way\n",
        "    a = a.cuda()\n",
        "    a = a.cpu()\n",
        "\n",
        "    # Another way\n",
        "    device = torch.device('cuda')\n",
        "    a = a.to(device)\n",
        "\n",
        "    device = torch.device('cpu')\n",
        "    a = a.to(device)\n",
        "else:\n",
        "    print('CPU it is!')"
      ]
    },
    {
      "cell_type": "markdown",
      "metadata": {
        "id": "scPrRyF5hvub"
      },
      "source": [
        "And many more!"
      ]
    },
    {
      "cell_type": "markdown",
      "metadata": {
        "id": "SmcfjA74hvub"
      },
      "source": [
        "## A Quick Note about Batching\n",
        "\n",
        "In most ML applications we do mini-batch stochastic gradient descent instead of pure stochastic gradient descent.\n",
        "\n",
        "Mini-batch SGD is a step between full gradient descent and stochastic gradient descent by computing the average gradient over a small number of examples.\n",
        "\n",
        "In a nutshell, given `n` examples:\n",
        "- **Full GD:** dL/dw = average over all `n` examples. One step per `n` examples.\n",
        "- **SGD:** dL/dw = point estimate over a single example. `n` steps per `n` examples.\n",
        "- **Mini-batch SGD:** dL/dw = average over `m << n` examples. `n / m` steps per `n` examples.\n",
        "\n",
        "Advantages of mini-batch SGD include a more stable gradient estimate and computational efficiency on modern hardware (exploiting parallelism gives sub-linear to constant time complexity, especially on GPU).\n",
        "\n",
        "In PyTorch, batched tensors are represented as just another dimension. Most of the deep learning modules assume batched tensors as input (even if the batch size is just 1)."
      ]
    },
    {
      "cell_type": "code",
      "execution_count": 41,
      "metadata": {
        "colab": {
          "base_uri": "https://localhost:8080/"
        },
        "id": "jGCQMiFghvub",
        "outputId": "c8a463a2-9081-4405-af46-116c9749052f"
      },
      "outputs": [
        {
          "output_type": "stream",
          "name": "stdout",
          "text": [
            "tensor([[[ 0.2741,  1.5613],\n",
            "         [ 0.3099, -0.0329]],\n",
            "\n",
            "        [[ 1.1051, -0.5294],\n",
            "         [ 0.1456,  0.6184]]])\n",
            "tensor([[[ 2.2839,  0.7201],\n",
            "         [ 0.2191, -0.1988]],\n",
            "\n",
            "        [[ 0.5085, -2.1324],\n",
            "         [-0.4870, -0.5480]]])\n",
            "tensor([[[ 0.9681, -0.1131],\n",
            "         [ 0.7006,  0.2297]],\n",
            "\n",
            "        [[ 0.8198, -2.0663],\n",
            "         [-0.2271, -0.6495]]])\n",
            "torch.Size([2, 2, 2])\n"
          ]
        }
      ],
      "source": [
        "# Batched matrix multiply\n",
        "a = torch.randn(2, 2, 2)\n",
        "b = torch.randn(2, 2, 2)\n",
        "print(a)\n",
        "print(b)\n",
        "\n",
        "# The same as for i in 1 ... 10, c_i = a[i].mm(b[i])\n",
        "c = a.bmm(b)\n",
        "print(c)\n",
        "print(c.size())"
      ]
    },
    {
      "cell_type": "markdown",
      "metadata": {
        "ExecuteTime": {
          "end_time": "2019-02-20T16:35:28.575416Z",
          "start_time": "2019-02-20T16:35:28.571576Z"
        },
        "id": "xp1qKiAvhvub"
      },
      "source": [
        "## Autograd: Automatic Differentiation!\n",
        "\n",
        "Along with the flexible deep learning modules (to follow) this is the best part of using a package PyTorch.\n",
        "\n",
        "What is autograd? It *automatically* computes *gradients*. All those complicated functions you might be using for your model need gradients for back-propagation. Autograd does this auto-magically! (Sorry, you still need to do this by hand for homework 4.)\n",
        "\n",
        "Let's warmup."
      ]
    },
    {
      "cell_type": "code",
      "execution_count": 42,
      "metadata": {
        "colab": {
          "base_uri": "https://localhost:8080/"
        },
        "id": "tLOz6dZ1hvub",
        "outputId": "4a7bec6a-14d7-4216-e537-926c58e1d767"
      },
      "outputs": [
        {
          "output_type": "stream",
          "name": "stdout",
          "text": [
            "tensor([-1.1178], requires_grad=True)\n"
          ]
        }
      ],
      "source": [
        "# A tensor that will remember gradients\n",
        "x = torch.randn(1, requires_grad=True)\n",
        "print(x)"
      ]
    },
    {
      "cell_type": "markdown",
      "metadata": {
        "ExecuteTime": {
          "end_time": "2019-02-20T16:35:28.581665Z",
          "start_time": "2019-02-20T16:35:28.577506Z"
        },
        "id": "NZ6nDqN5hvub"
      },
      "source": [
        "At first the 'grad' parameter is None:"
      ]
    },
    {
      "cell_type": "code",
      "execution_count": 43,
      "metadata": {
        "ExecuteTime": {
          "end_time": "2019-02-20T16:35:28.585548Z",
          "start_time": "2019-02-20T16:35:28.583493Z"
        },
        "colab": {
          "base_uri": "https://localhost:8080/"
        },
        "id": "-i4YRXU2hvub",
        "outputId": "fa09216e-5c96-4b04-e1cf-ecbfd346c933"
      },
      "outputs": [
        {
          "output_type": "stream",
          "name": "stdout",
          "text": [
            "None\n"
          ]
        }
      ],
      "source": [
        "print(x.grad)"
      ]
    },
    {
      "cell_type": "markdown",
      "metadata": {
        "id": "0IHIJ80Ghvub"
      },
      "source": [
        "Let's do an operation. Take y = e^x."
      ]
    },
    {
      "cell_type": "code",
      "execution_count": 44,
      "metadata": {
        "ExecuteTime": {
          "end_time": "2019-02-20T16:35:28.591506Z",
          "start_time": "2019-02-20T16:35:28.587586Z"
        },
        "id": "YT14voyVhvub"
      },
      "outputs": [],
      "source": [
        "y = x.exp()"
      ]
    },
    {
      "cell_type": "markdown",
      "metadata": {
        "ExecuteTime": {
          "end_time": "2019-02-20T16:35:28.596276Z",
          "start_time": "2019-02-20T16:35:28.593558Z"
        },
        "id": "m_fuPC9Ahvub"
      },
      "source": [
        "To run the gradient computing magic, call '.backward()' on a variable."
      ]
    },
    {
      "cell_type": "code",
      "execution_count": 45,
      "metadata": {
        "ExecuteTime": {
          "end_time": "2019-02-20T16:35:28.602746Z",
          "start_time": "2019-02-20T16:35:28.598538Z"
        },
        "id": "Z1nM9Zavhvub"
      },
      "outputs": [],
      "source": [
        "y.backward()"
      ]
    },
    {
      "cell_type": "markdown",
      "metadata": {
        "ExecuteTime": {
          "end_time": "2019-02-20T16:35:28.610474Z",
          "start_time": "2019-02-20T16:35:28.605443Z"
        },
        "id": "b_T8O3Tbhvuc"
      },
      "source": [
        "For all dependent variables {x_1, ..., x_n} that were used to compute y, dy/x_i is computed and stored in the x_i.grad field.\n",
        "\n",
        "Here dy/dx = e^x = y. Let's see!"
      ]
    },
    {
      "cell_type": "code",
      "execution_count": 46,
      "metadata": {
        "ExecuteTime": {
          "end_time": "2019-02-20T16:35:28.617215Z",
          "start_time": "2019-02-20T16:35:28.613422Z"
        },
        "colab": {
          "base_uri": "https://localhost:8080/"
        },
        "id": "F2NcaItWhvuc",
        "outputId": "12351d77-7b6a-4055-d6bd-4126c947111d"
      },
      "outputs": [
        {
          "output_type": "stream",
          "name": "stdout",
          "text": [
            "tensor([0.3270]) tensor([0.3270], grad_fn=<ExpBackward0>)\n"
          ]
        }
      ],
      "source": [
        "print(x.grad, y)"
      ]
    },
    {
      "cell_type": "markdown",
      "metadata": {
        "id": "Few_CFi-hvuc"
      },
      "source": [
        "**Important!** Remember to zero gradients before subsequent calls to backwards."
      ]
    },
    {
      "cell_type": "code",
      "execution_count": 52,
      "metadata": {
        "colab": {
          "base_uri": "https://localhost:8080/"
        },
        "id": "FYzCppYMhvuc",
        "outputId": "0555c1ca-fd2f-4f14-fb0a-433b7fca5a90"
      },
      "outputs": [
        {
          "output_type": "stream",
          "name": "stdout",
          "text": [
            "tensor([12.3270])\n"
          ]
        }
      ],
      "source": [
        "# Compute another thingy with x.\n",
        "z = x * 2\n",
        "z.backward()\n",
        "\n",
        "# Should be 2! But it will be 2 + e^x.\n",
        "print(x.grad)"
      ]
    },
    {
      "cell_type": "code",
      "execution_count": 53,
      "metadata": {
        "colab": {
          "base_uri": "https://localhost:8080/"
        },
        "id": "UMVKeltahvuc",
        "outputId": "cb344aa1-2c0c-49d5-c9af-e032cac5d9bd"
      },
      "outputs": [
        {
          "output_type": "stream",
          "name": "stdout",
          "text": [
            "tensor([2.6546])\n",
            "tensor([-12.3214])\n",
            "tensor([0.5223])\n"
          ]
        }
      ],
      "source": [
        "x_a = torch.randn(1, requires_grad=True)\n",
        "x_b = torch.randn(1, requires_grad=True)\n",
        "x = x_a * x_b\n",
        "x1 = x ** 2\n",
        "x2 = 1 / x1\n",
        "x3 = x2.exp()\n",
        "x4 = 1 + x3\n",
        "x5 = x4.log()\n",
        "x6 = x5 ** (1/3)\n",
        "x6.backward()\n",
        "print(x_a.grad)\n",
        "print(x_b.grad)\n",
        "\n",
        "\n",
        "x = torch.randn(1, requires_grad=True)\n",
        "y = torch.tanh(x)\n",
        "y.backward()\n",
        "print(x.grad)"
      ]
    },
    {
      "cell_type": "markdown",
      "metadata": {
        "id": "IvipmLnnhvuc"
      },
      "source": [
        "**Also important!** Under the hood PyTorch stores all the stuff required to compute gradients (call stack, cached values, etc). If you want to save a variable just to keep it around (say for logging or plotting) remember to call `.item()` to get the python value and free the PyTorch machinery memory.\n",
        "\n",
        "You can stop auto-grad from running in the background by using the `torch.no_grad()` context manager.\n",
        "\n",
        "```python\n",
        "with torch.no_grad():\n",
        "    do_all_my_things()\n",
        "```"
      ]
    },
    {
      "cell_type": "markdown",
      "metadata": {
        "ExecuteTime": {
          "end_time": "2019-02-20T16:35:28.624048Z",
          "start_time": "2019-02-20T16:35:28.619908Z"
        },
        "id": "6aqopE4Jhvuc"
      },
      "source": [
        "## Manual Neural Net + Autograd SGD Example (read this while studying unit 3)\n",
        "\n",
        "Before we move on to the full PyTorch wrapper library, let's do a simple NN SGD example by hand.\n",
        "\n",
        "We'll train a one hidden layer feed forward NN on a toy dataset."
      ]
    },
    {
      "cell_type": "code",
      "execution_count": 4,
      "metadata": {
        "id": "Ibo9gE4zhvuf"
      },
      "outputs": [],
      "source": [
        "# Set our random seeds\n",
        "import random\n",
        "import numpy as np\n",
        "# Start by importing torch\n",
        "import torch\n",
        "import matplotlib\n",
        "import matplotlib.pyplot as plt\n",
        "\n",
        "def set_seed(seed):\n",
        "    random.seed(seed)\n",
        "    np.random.seed(seed)\n",
        "    torch.manual_seed(seed)\n",
        "    if torch.cuda.is_available():\n",
        "        torch.cuda.manual_seed(seed)"
      ]
    },
    {
      "cell_type": "code",
      "execution_count": 5,
      "metadata": {
        "ExecuteTime": {
          "end_time": "2019-02-20T16:35:28.630303Z",
          "start_time": "2019-02-20T16:35:28.626019Z"
        },
        "colab": {
          "base_uri": "https://localhost:8080/",
          "height": 465
        },
        "id": "06epmqdkhvuf",
        "outputId": "822a7dd8-5a09-4819-8076-855fe010d682"
      },
      "outputs": [
        {
          "output_type": "stream",
          "name": "stdout",
          "text": [
            "Number of examples: 100\n",
            "Number of features: 2\n"
          ]
        },
        {
          "output_type": "display_data",
          "data": {
            "text/plain": [
              "<Figure size 640x480 with 1 Axes>"
            ],
            "image/png": "[encoded data removed]"
          },
          "metadata": {}
        }
      ],
      "source": [
        "# Get ourselves a simple dataset\n",
        "from sklearn.datasets import make_classification\n",
        "set_seed(7)\n",
        "X, Y = make_classification(n_features=2, n_redundant=0, n_informative=1, n_clusters_per_class=1)\n",
        "print('Number of examples: %d' % X.shape[0])\n",
        "print('Number of features: %d' % X.shape[1])\n",
        "\n",
        "# Take a peak\n",
        "%matplotlib inline\n",
        "import matplotlib\n",
        "import matplotlib.pyplot as plt\n",
        "plt.scatter(X[:, 0], X[:, 1], marker='o', c=Y, s=25, edgecolor='k')\n",
        "plt.show()"
      ]
    },
    {
      "cell_type": "code",
      "execution_count": 6,
      "metadata": {
        "collapsed": true,
        "id": "YW3fw0pShvuf"
      },
      "outputs": [],
      "source": [
        "# Convert data to PyTorch\n",
        "X, Y = torch.from_numpy(X), torch.from_numpy(Y)\n",
        "\n",
        "# Gotcha: \"Expected object of scalar type Float but got scalar type Double\"\n",
        "# If you see this it's because numpy defaults to Doubles whereas pytorch has floats.\n",
        "X, Y = X.float(), Y.float()"
      ]
    },
    {
      "cell_type": "markdown",
      "metadata": {
        "id": "_EOLFSNVhvuf"
      },
      "source": [
        "We'll train a one layer neural net to classify this dataset. Let's define the parameter sizes:"
      ]
    },
    {
      "cell_type": "code",
      "execution_count": 7,
      "metadata": {
        "ExecuteTime": {
          "end_time": "2019-02-19T17:16:34.417254Z",
          "start_time": "2019-02-19T17:16:34.411064Z"
        },
        "collapsed": true,
        "id": "hGGG_u9phvuf"
      },
      "outputs": [],
      "source": [
        "# Define dimensions\n",
        "num_feats = 2\n",
        "hidden_size = 100\n",
        "num_outputs = 1\n",
        "\n",
        "# Learning rate\n",
        "eta = 0.1\n",
        "num_steps = 1000"
      ]
    },
    {
      "cell_type": "markdown",
      "metadata": {
        "id": "3Y1-1Bithvug"
      },
      "source": [
        "And now run a few steps of SGD!"
      ]
    },
    {
      "cell_type": "code",
      "execution_count": 8,
      "metadata": {
        "ExecuteTime": {
          "end_time": "2019-02-20T16:35:28.634813Z",
          "start_time": "2019-02-20T16:35:28.632236Z"
        },
        "colab": {
          "base_uri": "https://localhost:8080/",
          "height": 449
        },
        "id": "N_oTtCoyhvug",
        "outputId": "f16c70e0-ddaf-4ddc-dac4-62f2daa1170c"
      },
      "outputs": [
        {
          "output_type": "display_data",
          "data": {
            "text/plain": [
              "<Figure size 640x480 with 1 Axes>"
            ],
            "image/png": "[encoded data removed]"
          },
          "metadata": {}
        }
      ],
      "source": [
        "# Input to hidden weights\n",
        "W1 = torch.randn(hidden_size, num_feats, requires_grad=True)\n",
        "b1 = torch.zeros(hidden_size, requires_grad=True)\n",
        "\n",
        "# Hidden to output\n",
        "W2 = torch.randn(num_outputs, hidden_size, requires_grad=True)\n",
        "b2 = torch.zeros(num_outputs, requires_grad=True)\n",
        "\n",
        "# Group parameters\n",
        "parameters = [W1, b1, W2, b2]\n",
        "\n",
        "# Get random order\n",
        "indices = torch.randperm(X.size(0))\n",
        "\n",
        "# Keep running average losses for a learning curve?\n",
        "avg_loss = []\n",
        "\n",
        "# Run!\n",
        "for step in range(num_steps):\n",
        "    # Get example\n",
        "    i = indices[step % indices.size(0)]\n",
        "    x_i, y_i = X[i], Y[i]\n",
        "\n",
        "    # Run example\n",
        "    hidden = torch.relu(W1.matmul(x_i) + b1)\n",
        "    y_hat = torch.sigmoid(W2.matmul(hidden) + b2)\n",
        "\n",
        "    # Compute loss binary cross entropy: -(y_i * log(y_hat) + (1 - y_i) * log(1 - y_hat))\n",
        "    # Epsilon for numerical stability\n",
        "    eps = 1e-6\n",
        "    loss = -(y_i * (y_hat + eps).log() + (1 - y_i) * (1 - y_hat + eps).log())\n",
        "\n",
        "    # Add to our running average learning curve. Don't forget .item()!\n",
        "    if step == 0:\n",
        "        avg_loss.append(loss.item())\n",
        "    else:\n",
        "        old_avg = avg_loss[-1]\n",
        "        new_avg = (loss.item() + old_avg * len(avg_loss)) / (len(avg_loss) + 1)\n",
        "        avg_loss.append(new_avg)\n",
        "\n",
        "    # Zero out all previous gradients\n",
        "    for param in parameters:\n",
        "        # It might start out as None\n",
        "        if param.grad is not None:\n",
        "            # In place\n",
        "            param.grad.zero_()\n",
        "\n",
        "    # Backward pass\n",
        "    loss.backward()\n",
        "\n",
        "    # Update parameters\n",
        "    for param in parameters:\n",
        "        # In place!\n",
        "        param.data = param.data - eta * param.grad\n",
        "\n",
        "\n",
        "plt.plot(range(num_steps), avg_loss)\n",
        "plt.ylabel('Loss')\n",
        "plt.xlabel('Step')\n",
        "plt.show()"
      ]
    },
    {
      "cell_type": "markdown",
      "metadata": {
        "ExecuteTime": {
          "end_time": "2019-02-20T16:35:28.639328Z",
          "start_time": "2019-02-20T16:35:28.636394Z"
        },
        "id": "zuM8pJONhvug"
      },
      "source": [
        "## torch.nn\n",
        "\n",
        "The `nn` package is where all of the cool neural network stuff is. Layers, loss functions, etc.\n",
        "\n",
        "Let's dive in."
      ]
    },
    {
      "cell_type": "markdown",
      "metadata": {
        "ExecuteTime": {
          "end_time": "2019-02-20T16:35:28.643927Z",
          "start_time": "2019-02-20T16:35:28.640936Z"
        },
        "id": "sXOQ9Ziqhvug"
      },
      "source": [
        "### Layers\n",
        "\n",
        "Before we manually defined our linear layers. PyTorch has them for you as sub-classes of `nn.Module`."
      ]
    },
    {
      "cell_type": "code",
      "execution_count": 9,
      "metadata": {
        "colab": {
          "base_uri": "https://localhost:8080/"
        },
        "id": "DskdZP5ahvug",
        "outputId": "c5a141af-995d-423a-9fc6-53bf7b971280"
      },
      "outputs": [
        {
          "output_type": "stream",
          "name": "stdout",
          "text": [
            "Linear(in_features=10, out_features=10, bias=True)\n",
            "Conv2d(1, 20, kernel_size=(5, 5), stride=(1, 1))\n",
            "RNN(10, 10)\n"
          ]
        }
      ],
      "source": [
        "import torch.nn as nn\n",
        "\n",
        "# Linear layer: in_features, out_features\n",
        "linear = nn.Linear(10, 10)\n",
        "print(linear)\n",
        "\n",
        "# Convolution layer: in_channels, out_channels, kernel_size, stride\n",
        "conv = nn.Conv2d(1, 20, 5, 1)\n",
        "print(conv)\n",
        "\n",
        "# RNN: num_inputs, num_hidden, num_layers\n",
        "rnn = nn.RNN(10, 10, 1)\n",
        "print(rnn)"
      ]
    },
    {
      "cell_type": "code",
      "execution_count": 10,
      "metadata": {
        "colab": {
          "base_uri": "https://localhost:8080/"
        },
        "id": "v5kMpSZbhvug",
        "outputId": "b64ed7e9-22da-4d0c-daa1-25e0ba9ec0d1"
      },
      "outputs": [
        {
          "output_type": "stream",
          "name": "stdout",
          "text": [
            "Parameter containing:\n",
            "tensor([[-0.2087,  0.0624,  0.0927,  0.2812,  0.0016,  0.2136, -0.1054, -0.2304,\n",
            "         -0.0307,  0.1642],\n",
            "        [-0.1235, -0.2677, -0.1926,  0.0560,  0.3015,  0.0175, -0.2549, -0.1416,\n",
            "          0.1605, -0.0995],\n",
            "        [-0.0427,  0.2353,  0.1162,  0.1936,  0.2839, -0.1041,  0.0458, -0.2373,\n",
            "          0.3143, -0.2120],\n",
            "        [ 0.3006,  0.2895,  0.0688, -0.2734, -0.0102, -0.1303,  0.0969,  0.1788,\n",
            "          0.1761,  0.1016],\n",
            "        [-0.2423, -0.2660,  0.0934, -0.0694,  0.1478,  0.3073,  0.0955, -0.1904,\n",
            "         -0.0913,  0.1948],\n",
            "        [ 0.0300,  0.2156, -0.3031, -0.0390, -0.1542,  0.2403,  0.1383, -0.0424,\n",
            "         -0.2934, -0.0373],\n",
            "        [ 0.2564, -0.0085, -0.0131, -0.2924,  0.2504,  0.2616, -0.2541, -0.2243,\n",
            "          0.0153, -0.1809],\n",
            "        [-0.2588,  0.0992, -0.0820,  0.1096,  0.1257,  0.2816,  0.1879, -0.2973,\n",
            "         -0.2548,  0.2535],\n",
            "        [-0.2687,  0.1933, -0.1927,  0.2537,  0.1788, -0.2183, -0.2614, -0.1386,\n",
            "         -0.1446, -0.1795],\n",
            "        [ 0.2228,  0.0777, -0.0397, -0.0215,  0.1316,  0.0324, -0.0392,  0.2808,\n",
            "          0.2182,  0.0222]], requires_grad=True)\n",
            "['weight', 'bias']\n"
          ]
        }
      ],
      "source": [
        "print(linear.weight)\n",
        "print([k for k,v in conv.named_parameters()])"
      ]
    },
    {
      "cell_type": "code",
      "execution_count": 12,
      "metadata": {
        "ExecuteTime": {
          "end_time": "2019-02-20T16:35:28.850451Z",
          "start_time": "2019-02-20T16:35:28.645580Z"
        },
        "collapsed": true,
        "id": "T7Du493ohvug"
      },
      "outputs": [],
      "source": [
        "# Make our own model!\n",
        "\n",
        "class Net(nn.Module):\n",
        "    def __init__(self):\n",
        "        super(Net, self).__init__()\n",
        "        # 1 input channel to 20 feature maps of 5x5 kernel. Stride 1.\n",
        "        self.conv1 = nn.Conv2d(1, 20, 5, 1)\n",
        "\n",
        "        # 20 input channels to 50 feature maps of 5x5 kernel. Stride 1.\n",
        "        self.conv2 = nn.Conv2d(20, 50, 5, 1)\n",
        "\n",
        "        # Full connected of final 4x4 image to 500 features\n",
        "        self.fc1 = nn.Linear(4*4*50, 500)\n",
        "\n",
        "        # From 500 to 10 classes\n",
        "        self.fc2 = nn.Linear(500, 10)\n",
        "\n",
        "    def forward(self, x):\n",
        "        x = F.relu(self.conv1(x))\n",
        "        x = F.max_pool2d(x, 2, 2)\n",
        "        x = F.relu(self.conv2(x))\n",
        "        x = F.max_pool2d(x, 2, 2)\n",
        "        x = x.view(-1, 4*4*50)\n",
        "        x = F.relu(self.fc1(x))\n",
        "        x = self.fc2(x)\n",
        "        return F.log_softmax(x, dim=1)\n",
        "\n",
        "# Initialize it\n",
        "model = Net()"
      ]
    },
    {
      "cell_type": "markdown",
      "metadata": {
        "id": "QzXz_ccbhvug"
      },
      "source": [
        "A note on convolution sizes:\n",
        "\n",
        "Running a kernel over the image reduces the image height/length by kernel_size - 1.\n",
        "\n",
        "Running a max pooling over the image reduces the image heigh/length by a factor of the kernel size.\n",
        "\n",
        "So starting from a 28 x 28 image:\n",
        "\n",
        "-  Run 5x5 conv --> 24 x 24\n",
        "-  Apply 2x2 max pool --> 12 x 12\n",
        "-  Run 5x5 conv --> 8 x 8\n",
        "-  Apply 2x2 max pool --> 4 x 4"
      ]
    },
    {
      "cell_type": "markdown",
      "metadata": {
        "id": "T8641u0Phvug"
      },
      "source": [
        "### Optimizers\n",
        "\n",
        "PyTorch handles all the optimizing too. There are several algorithms you can learn about later. Here's SGD:\n"
      ]
    },
    {
      "cell_type": "code",
      "execution_count": 13,
      "metadata": {
        "collapsed": true,
        "id": "wXeNHP7yhvug"
      },
      "outputs": [],
      "source": [
        "import torch.optim as optim\n",
        "\n",
        "# Initialize with model parameters\n",
        "optimizer = optim.SGD(model.parameters(), lr=0.01)"
      ]
    },
    {
      "cell_type": "markdown",
      "metadata": {
        "id": "qEDf1d7Fhvug"
      },
      "source": [
        "Updating is now as easy as:\n",
        "\n",
        "```python\n",
        "loss = loss_fn()\n",
        "optimizer.zero_grad()\n",
        "loss.backward()\n",
        "optimizer.step()\n",
        "```\n",
        "\n",
        "### Full train and test loops\n",
        "Let's look at a full train loop now."
      ]
    },
    {
      "cell_type": "code",
      "execution_count": 14,
      "metadata": {
        "collapsed": true,
        "id": "_PuadTsvhvug"
      },
      "outputs": [],
      "source": [
        "import tqdm\n",
        "import torch.nn.functional as F\n",
        "\n",
        "def train(model, train_loader, optimizer, epoch):\n",
        "    # For things like dropout\n",
        "    model.train()\n",
        "\n",
        "    # Avg loss\n",
        "    total_loss = 0\n",
        "\n",
        "    # Iterate through dataset\n",
        "    for data, target in tqdm.tqdm(train_loader):\n",
        "        # Zero grad\n",
        "        optimizer.zero_grad()\n",
        "\n",
        "        # Forward pass\n",
        "        output = model(data)\n",
        "\n",
        "        # Negative log likelihood loss function\n",
        "        loss = F.nll_loss(output, target)\n",
        "\n",
        "        # Backward pass\n",
        "        loss.backward()\n",
        "        total_loss += loss.item()\n",
        "\n",
        "        # Update\n",
        "        optimizer.step()\n",
        "\n",
        "    # Print average loss\n",
        "    print(\"Train Epoch: {}\\t Loss: {:.6f}\".format(epoch, total_loss / len(train_loader)))"
      ]
    },
    {
      "cell_type": "markdown",
      "metadata": {
        "id": "wwiPV-dqhvug"
      },
      "source": [
        "Testing loops are similar."
      ]
    },
    {
      "cell_type": "code",
      "execution_count": 15,
      "metadata": {
        "collapsed": true,
        "id": "xDi_aKh7hvug"
      },
      "outputs": [],
      "source": [
        "def test(model, test_loader):\n",
        "    model.eval()\n",
        "    test_loss = 0\n",
        "    correct = 0\n",
        "    with torch.no_grad():\n",
        "        for data, target in test_loader:\n",
        "            output = model(data)\n",
        "            test_loss += F.nll_loss(output, target, reduction='sum').item() # sum up batch loss\n",
        "            pred = output.argmax(dim=1, keepdim=True) # get the index of the max log-probability\n",
        "            correct += pred.eq(target.view_as(pred)).sum().item()\n",
        "\n",
        "    test_loss /= len(test_loader.dataset)\n",
        "\n",
        "    print('\\nTest set: Average loss: {:.4f}, Accuracy: {}/{} ({:.0f}%)\\n'.format(\n",
        "        test_loss, correct, len(test_loader.dataset),\n",
        "        100. * correct / len(test_loader.dataset)))"
      ]
    },
    {
      "cell_type": "markdown",
      "metadata": {
        "id": "kETvh7PNhvug"
      },
      "source": [
        "## MNIST\n",
        "\n",
        "Just going to run mnist!"
      ]
    },
    {
      "cell_type": "code",
      "execution_count": 16,
      "metadata": {
        "colab": {
          "base_uri": "https://localhost:8080/"
        },
        "id": "NSYXyvyOhvug",
        "outputId": "f41dc82b-72f5-4467-fd5b-4a423a8e3ce3"
      },
      "outputs": [
        {
          "output_type": "stream",
          "name": "stdout",
          "text": [
            "Downloading http://yann.lecun.com/exdb/mnist/train-images-idx3-ubyte.gz\n",
            "Downloading http://yann.lecun.com/exdb/mnist/train-images-idx3-ubyte.gz to ../data/MNIST/raw/train-images-idx3-ubyte.gz\n"
          ]
        },
        {
          "output_type": "stream",
          "name": "stderr",
          "text": [
            "100%|██████████| 9912422/9912422 [00:00<00:00, 108486206.23it/s]\n"
          ]
        },
        {
          "output_type": "stream",
          "name": "stdout",
          "text": [
            "Extracting ../data/MNIST/raw/train-images-idx3-ubyte.gz to ../data/MNIST/raw\n",
            "\n",
            "Downloading http://yann.lecun.com/exdb/mnist/train-labels-idx1-ubyte.gz\n",
            "Downloading http://yann.lecun.com/exdb/mnist/train-labels-idx1-ubyte.gz to ../data/MNIST/raw/train-labels-idx1-ubyte.gz\n"
          ]
        },
        {
          "output_type": "stream",
          "name": "stderr",
          "text": [
            "100%|██████████| 28881/28881 [00:00<00:00, 37422210.02it/s]\n"
          ]
        },
        {
          "output_type": "stream",
          "name": "stdout",
          "text": [
            "Extracting ../data/MNIST/raw/train-labels-idx1-ubyte.gz to ../data/MNIST/raw\n",
            "\n",
            "Downloading http://yann.lecun.com/exdb/mnist/t10k-images-idx3-ubyte.gz\n",
            "Downloading http://yann.lecun.com/exdb/mnist/t10k-images-idx3-ubyte.gz to ../data/MNIST/raw/t10k-images-idx3-ubyte.gz\n"
          ]
        },
        {
          "output_type": "stream",
          "name": "stderr",
          "text": [
            "100%|██████████| 1648877/1648877 [00:00<00:00, 24320644.38it/s]\n"
          ]
        },
        {
          "output_type": "stream",
          "name": "stdout",
          "text": [
            "Extracting ../data/MNIST/raw/t10k-images-idx3-ubyte.gz to ../data/MNIST/raw\n",
            "\n",
            "Downloading http://yann.lecun.com/exdb/mnist/t10k-labels-idx1-ubyte.gz\n",
            "Downloading http://yann.lecun.com/exdb/mnist/t10k-labels-idx1-ubyte.gz to ../data/MNIST/raw/t10k-labels-idx1-ubyte.gz\n"
          ]
        },
        {
          "output_type": "stream",
          "name": "stderr",
          "text": [
            "100%|██████████| 4542/4542 [00:00<00:00, 4011482.16it/s]\n"
          ]
        },
        {
          "output_type": "stream",
          "name": "stdout",
          "text": [
            "Extracting ../data/MNIST/raw/t10k-labels-idx1-ubyte.gz to ../data/MNIST/raw\n",
            "\n"
          ]
        },
        {
          "output_type": "stream",
          "name": "stderr",
          "text": [
            "100%|██████████| 1875/1875 [01:18<00:00, 23.96it/s]\n"
          ]
        },
        {
          "output_type": "stream",
          "name": "stdout",
          "text": [
            "Train Epoch: 1\t Loss: 0.330469\n",
            "\n",
            "Test set: Average loss: 0.0879, Accuracy: 9743/10000 (97%)\n",
            "\n"
          ]
        },
        {
          "output_type": "stream",
          "name": "stderr",
          "text": [
            "100%|██████████| 1875/1875 [01:11<00:00, 26.27it/s]\n"
          ]
        },
        {
          "output_type": "stream",
          "name": "stdout",
          "text": [
            "Train Epoch: 2\t Loss: 0.084864\n",
            "\n",
            "Test set: Average loss: 0.0632, Accuracy: 9806/10000 (98%)\n",
            "\n"
          ]
        },
        {
          "output_type": "stream",
          "name": "stderr",
          "text": [
            "100%|██████████| 1875/1875 [01:09<00:00, 26.79it/s]\n"
          ]
        },
        {
          "output_type": "stream",
          "name": "stdout",
          "text": [
            "Train Epoch: 3\t Loss: 0.060137\n",
            "\n",
            "Test set: Average loss: 0.0457, Accuracy: 9852/10000 (99%)\n",
            "\n"
          ]
        },
        {
          "output_type": "stream",
          "name": "stderr",
          "text": [
            "100%|██████████| 1875/1875 [01:08<00:00, 27.30it/s]\n"
          ]
        },
        {
          "output_type": "stream",
          "name": "stdout",
          "text": [
            "Train Epoch: 4\t Loss: 0.047299\n",
            "\n",
            "Test set: Average loss: 0.0398, Accuracy: 9860/10000 (99%)\n",
            "\n"
          ]
        },
        {
          "output_type": "stream",
          "name": "stderr",
          "text": [
            "100%|██████████| 1875/1875 [01:09<00:00, 27.16it/s]\n"
          ]
        },
        {
          "output_type": "stream",
          "name": "stdout",
          "text": [
            "Train Epoch: 5\t Loss: 0.038761\n",
            "\n",
            "Test set: Average loss: 0.0347, Accuracy: 9892/10000 (99%)\n",
            "\n"
          ]
        },
        {
          "output_type": "stream",
          "name": "stderr",
          "text": [
            "100%|██████████| 1875/1875 [01:11<00:00, 26.05it/s]\n"
          ]
        },
        {
          "output_type": "stream",
          "name": "stdout",
          "text": [
            "Train Epoch: 6\t Loss: 0.033457\n",
            "\n",
            "Test set: Average loss: 0.0325, Accuracy: 9892/10000 (99%)\n",
            "\n"
          ]
        },
        {
          "output_type": "stream",
          "name": "stderr",
          "text": [
            "100%|██████████| 1875/1875 [01:08<00:00, 27.27it/s]\n"
          ]
        },
        {
          "output_type": "stream",
          "name": "stdout",
          "text": [
            "Train Epoch: 7\t Loss: 0.029002\n",
            "\n",
            "Test set: Average loss: 0.0305, Accuracy: 9897/10000 (99%)\n",
            "\n"
          ]
        },
        {
          "output_type": "stream",
          "name": "stderr",
          "text": [
            "100%|██████████| 1875/1875 [01:09<00:00, 26.94it/s]\n"
          ]
        },
        {
          "output_type": "stream",
          "name": "stdout",
          "text": [
            "Train Epoch: 8\t Loss: 0.025455\n",
            "\n",
            "Test set: Average loss: 0.0326, Accuracy: 9893/10000 (99%)\n",
            "\n"
          ]
        },
        {
          "output_type": "stream",
          "name": "stderr",
          "text": [
            "100%|██████████| 1875/1875 [01:08<00:00, 27.37it/s]\n"
          ]
        },
        {
          "output_type": "stream",
          "name": "stdout",
          "text": [
            "Train Epoch: 9\t Loss: 0.022329\n",
            "\n",
            "Test set: Average loss: 0.0321, Accuracy: 9896/10000 (99%)\n",
            "\n"
          ]
        },
        {
          "output_type": "stream",
          "name": "stderr",
          "text": [
            "100%|██████████| 1875/1875 [01:08<00:00, 27.45it/s]\n"
          ]
        },
        {
          "output_type": "stream",
          "name": "stdout",
          "text": [
            "Train Epoch: 10\t Loss: 0.019973\n",
            "\n",
            "Test set: Average loss: 0.0290, Accuracy: 9901/10000 (99%)\n",
            "\n"
          ]
        }
      ],
      "source": [
        "from torchvision import datasets, transforms\n",
        "\n",
        "# See the torch DataLoader for more details.\n",
        "train_loader = torch.utils.data.DataLoader(\n",
        "    datasets.MNIST('../data', train=True, download=True,\n",
        "                   transform=transforms.Compose([\n",
        "                       transforms.ToTensor(),\n",
        "                       transforms.Normalize((0.1307,), (0.3081,))\n",
        "                   ])),\n",
        "    batch_size=32, shuffle=True)\n",
        "\n",
        "test_loader = torch.utils.data.DataLoader(\n",
        "    datasets.MNIST('../data', train=False,\n",
        "                   transform=transforms.Compose([\n",
        "                       transforms.ToTensor(),\n",
        "                       transforms.Normalize((0.1307,), (0.3081,))\n",
        "                   ])),\n",
        "    batch_size=32, shuffle=True)\n",
        "\n",
        "\n",
        "for epoch in range(1, 10 + 1):\n",
        "    train(model, train_loader, optimizer, epoch)\n",
        "    test(model, test_loader)"
      ]
    }
  ],
  "metadata": {
    "kernelspec": {
      "display_name": "Python 3",
      "language": "python",
      "name": "python3"
    },
    "language_info": {
      "codemirror_mode": {
        "name": "ipython",
        "version": 3
      },
      "file_extension": ".py",
      "mimetype": "text/x-python",
      "name": "python",
      "nbconvert_exporter": "python",
      "pygments_lexer": "ipython3",
      "version": "3.6.5"
    },
    "toc": {
      "base_numbering": 1,
      "nav_menu": {},
      "number_sections": true,
      "sideBar": true,
      "skip_h1_title": false,
      "title_cell": "Table of Contents",
      "title_sidebar": "Contents",
      "toc_cell": false,
      "toc_position": {
        "height": "calc(100% - 180px)",
        "left": "10px",
        "top": "150px",
        "width": "164px"
      },
      "toc_section_display": true,
      "toc_window_display": true
    },
    "colab": {
      "provenance": [],
      "include_colab_link": true
    }
  },
  "nbformat": 4,
  "nbformat_minor": 0
}